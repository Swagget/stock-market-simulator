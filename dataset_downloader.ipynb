{
 "cells": [
  {
   "cell_type": "markdown",
   "id": "violent-commerce",
   "metadata": {},
   "source": [
    "# Importing"
   ]
  },
  {
   "cell_type": "code",
   "execution_count": 1,
   "id": "bound-vietnamese",
   "metadata": {},
   "outputs": [],
   "source": [
    "import pandas as pd\n",
    "from stonks import data_handler, indicator_handler"
   ]
  },
  {
   "cell_type": "code",
   "execution_count": 2,
   "id": "threatened-potato",
   "metadata": {},
   "outputs": [
    {
     "data": {
      "text/html": [
       "<div>\n",
       "<style scoped>\n",
       "    .dataframe tbody tr th:only-of-type {\n",
       "        vertical-align: middle;\n",
       "    }\n",
       "\n",
       "    .dataframe tbody tr th {\n",
       "        vertical-align: top;\n",
       "    }\n",
       "\n",
       "    .dataframe thead th {\n",
       "        text-align: right;\n",
       "    }\n",
       "</style>\n",
       "<table border=\"1\" class=\"dataframe\">\n",
       "  <thead>\n",
       "    <tr style=\"text-align: right;\">\n",
       "      <th></th>\n",
       "      <th>STOCK</th>\n",
       "      <th>CODE</th>\n",
       "    </tr>\n",
       "  </thead>\n",
       "  <tbody>\n",
       "    <tr>\n",
       "      <th>0</th>\n",
       "      <td>20 Microns Ltd. EOD Prices</td>\n",
       "      <td>BOM533022</td>\n",
       "    </tr>\n",
       "    <tr>\n",
       "      <th>1</th>\n",
       "      <td>3i Infotech Ltd. EOD Prices</td>\n",
       "      <td>BOM532628</td>\n",
       "    </tr>\n",
       "    <tr>\n",
       "      <th>2</th>\n",
       "      <td>3m India Ltd. EOD Prices</td>\n",
       "      <td>BOM523395</td>\n",
       "    </tr>\n",
       "    <tr>\n",
       "      <th>3</th>\n",
       "      <td>7seas Technologies Ltd-$ EOD Prices</td>\n",
       "      <td>BOM590116</td>\n",
       "    </tr>\n",
       "    <tr>\n",
       "      <th>4</th>\n",
       "      <td>8k Miles Software Services Ltd. EOD Prices</td>\n",
       "      <td>BOM512161</td>\n",
       "    </tr>\n",
       "    <tr>\n",
       "      <th>...</th>\n",
       "      <td>...</td>\n",
       "      <td>...</td>\n",
       "    </tr>\n",
       "    <tr>\n",
       "      <th>4534</th>\n",
       "      <td>Zuari Agro Chemicals Ltd. EOD Prices</td>\n",
       "      <td>BOM534742</td>\n",
       "    </tr>\n",
       "    <tr>\n",
       "      <th>4535</th>\n",
       "      <td>Zuari Global Ltd. EOD Prices</td>\n",
       "      <td>BOM500780</td>\n",
       "    </tr>\n",
       "    <tr>\n",
       "      <th>4536</th>\n",
       "      <td>Zyden Gentec Ltd. EOD Prices</td>\n",
       "      <td>BOM530091</td>\n",
       "    </tr>\n",
       "    <tr>\n",
       "      <th>4537</th>\n",
       "      <td>Zydus Wellness Ltd.-$ EOD Prices</td>\n",
       "      <td>BOM531335</td>\n",
       "    </tr>\n",
       "    <tr>\n",
       "      <th>4538</th>\n",
       "      <td>Zylog Systems Ltd. EOD Prices</td>\n",
       "      <td>BOM532883</td>\n",
       "    </tr>\n",
       "  </tbody>\n",
       "</table>\n",
       "<p>4539 rows × 2 columns</p>\n",
       "</div>"
      ],
      "text/plain": [
       "                                           STOCK       CODE\n",
       "0                     20 Microns Ltd. EOD Prices  BOM533022\n",
       "1                    3i Infotech Ltd. EOD Prices  BOM532628\n",
       "2                       3m India Ltd. EOD Prices  BOM523395\n",
       "3            7seas Technologies Ltd-$ EOD Prices  BOM590116\n",
       "4     8k Miles Software Services Ltd. EOD Prices  BOM512161\n",
       "...                                          ...        ...\n",
       "4534        Zuari Agro Chemicals Ltd. EOD Prices  BOM534742\n",
       "4535                Zuari Global Ltd. EOD Prices  BOM500780\n",
       "4536                Zyden Gentec Ltd. EOD Prices  BOM530091\n",
       "4537            Zydus Wellness Ltd.-$ EOD Prices  BOM531335\n",
       "4538               Zylog Systems Ltd. EOD Prices  BOM532883\n",
       "\n",
       "[4539 rows x 2 columns]"
      ]
     },
     "execution_count": 2,
     "metadata": {},
     "output_type": "execute_result"
    }
   ],
   "source": [
    "data_handler.get_stocks_list()"
   ]
  },
  {
   "cell_type": "code",
   "execution_count": 3,
   "id": "internal-termination",
   "metadata": {},
   "outputs": [],
   "source": [
    "object_created_just_for_authentication = data_handler()"
   ]
  },
  {
   "cell_type": "code",
   "execution_count": 4,
   "id": "forward-wallpaper",
   "metadata": {},
   "outputs": [],
   "source": [
    "data_handler.download_single_quandl_data_and_save(dataset=\"BSE\", ticker_code=\"BOM531335\")"
   ]
  },
  {
   "cell_type": "code",
   "execution_count": 5,
   "id": "accessible-pierce",
   "metadata": {},
   "outputs": [
    {
     "data": {
      "text/plain": [
       "'No'"
      ]
     },
     "execution_count": 5,
     "metadata": {},
     "output_type": "execute_result"
    }
   ],
   "source": [
    "data_handler.download_data()"
   ]
  },
  {
   "cell_type": "code",
   "execution_count": 8,
   "id": "weighted-income",
   "metadata": {},
   "outputs": [
    {
     "name": "stderr",
     "output_type": "stream",
     "text": [
      "4539it [00:00, 10947.33it/s]\n"
     ]
    }
   ],
   "source": [
    "data_handler.download_data_please()"
   ]
  },
  {
   "cell_type": "code",
   "execution_count": 7,
   "id": "imported-enhancement",
   "metadata": {},
   "outputs": [
    {
     "data": {
      "text/plain": [
       "True"
      ]
     },
     "execution_count": 7,
     "metadata": {},
     "output_type": "execute_result"
    }
   ],
   "source": [
    "data_handler.check_if_downloaded(ticker_code=\"BOM533022\", source = \"quandl\", dataset = \"BSE\")"
   ]
  },
  {
   "cell_type": "code",
   "execution_count": null,
   "id": "bored-fusion",
   "metadata": {},
   "outputs": [],
   "source": []
  }
 ],
 "metadata": {
  "kernelspec": {
   "display_name": "Python 3",
   "language": "python",
   "name": "python3"
  },
  "language_info": {
   "codemirror_mode": {
    "name": "ipython",
    "version": 3
   },
   "file_extension": ".py",
   "mimetype": "text/x-python",
   "name": "python",
   "nbconvert_exporter": "python",
   "pygments_lexer": "ipython3",
   "version": "3.7.9"
  },
  "toc": {
   "base_numbering": 1,
   "nav_menu": {},
   "number_sections": true,
   "sideBar": true,
   "skip_h1_title": false,
   "title_cell": "Table of Contents",
   "title_sidebar": "Contents",
   "toc_cell": false,
   "toc_position": {},
   "toc_section_display": true,
   "toc_window_display": true
  }
 },
 "nbformat": 4,
 "nbformat_minor": 5
}
