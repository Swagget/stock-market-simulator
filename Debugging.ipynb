{
 "cells": [
  {
   "cell_type": "markdown",
   "id": "polished-accreditation",
   "metadata": {},
   "source": [
    "# Optimising"
   ]
  },
  {
   "cell_type": "code",
   "execution_count": 10,
   "id": "derived-reflection",
   "metadata": {},
   "outputs": [
    {
     "name": "stderr",
     "output_type": "stream",
     "text": [
      "100%|██████████| 4539/4539 [01:42<00:00, 44.35it/s]"
     ]
    },
    {
     "name": "stdout",
     "output_type": "stream",
     "text": [
      "Code block 'Total processing time' took: 102.35455 s\n"
     ]
    },
    {
     "name": "stderr",
     "output_type": "stream",
     "text": [
      "\n"
     ]
    }
   ],
   "source": [
    "from stonks.utils.agent import agent\n",
    "bond = agent()\n",
    "bond.set_basic_strat_1()\n",
    "bond.run(number_of_stocks = 5000)"
   ]
  },
  {
   "cell_type": "code",
   "execution_count": 8,
   "id": "violent-worst",
   "metadata": {},
   "outputs": [
    {
     "data": {
      "text/plain": [
       "['BOM532918',\n",
       " 'BOM504903',\n",
       " 'BOM532055',\n",
       " 'BOM507649',\n",
       " 'BOM531233',\n",
       " 'BOM512397',\n",
       " 'BOM507652',\n",
       " 'BOM531522',\n",
       " 'BOM520111',\n",
       " 'BOM524610',\n",
       " 'BOM524230']"
      ]
     },
     "execution_count": 8,
     "metadata": {},
     "output_type": "execute_result"
    }
   ],
   "source": [
    "bond.failed_ticker_codes"
   ]
  },
  {
   "cell_type": "code",
   "execution_count": 1,
   "id": "small-conservative",
   "metadata": {},
   "outputs": [],
   "source": [
    "from stonks import data_disk_interface"
   ]
  },
  {
   "cell_type": "code",
   "execution_count": 9,
   "id": "intellectual-allowance",
   "metadata": {},
   "outputs": [
    {
     "name": "stdout",
     "output_type": "stream",
     "text": [
      "This file does not exist. Path : ./data/quandl/BSE/BOM532918.csv\n",
      "This file does not exist. Path : ./data/quandl/BSE/BOM507652.csv\n",
      "This file does not exist. Path : ./data/quandl/BSE/BOM524230.csv\n"
     ]
    }
   ],
   "source": [
    "for ticker_code in bond.failed_ticker_codes:\n",
    "    data_disk_interface.delete_file(ticker_code)"
   ]
  },
  {
   "cell_type": "code",
   "execution_count": null,
   "id": "maritime-looking",
   "metadata": {},
   "outputs": [],
   "source": []
  }
 ],
 "metadata": {
  "kernelspec": {
   "display_name": "Python 3",
   "language": "python",
   "name": "python3"
  },
  "language_info": {
   "codemirror_mode": {
    "name": "ipython",
    "version": 3
   },
   "file_extension": ".py",
   "mimetype": "text/x-python",
   "name": "python",
   "nbconvert_exporter": "python",
   "pygments_lexer": "ipython3",
   "version": "3.7.9"
  },
  "toc": {
   "base_numbering": 1,
   "nav_menu": {},
   "number_sections": true,
   "sideBar": true,
   "skip_h1_title": false,
   "title_cell": "Table of Contents",
   "title_sidebar": "Contents",
   "toc_cell": false,
   "toc_position": {
    "height": "calc(100% - 180px)",
    "left": "10px",
    "top": "150px",
    "width": "369.594px"
   },
   "toc_section_display": true,
   "toc_window_display": true
  }
 },
 "nbformat": 4,
 "nbformat_minor": 5
}
