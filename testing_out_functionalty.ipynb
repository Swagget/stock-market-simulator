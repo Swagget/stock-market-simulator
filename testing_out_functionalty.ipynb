{
 "cells": [
  {
   "cell_type": "markdown",
   "id": "rental-cologne",
   "metadata": {},
   "source": [
    "# Importing"
   ]
  },
  {
   "cell_type": "code",
   "execution_count": 1,
   "id": "brief-sailing",
   "metadata": {},
   "outputs": [],
   "source": [
    "from stonks import data_handler, simulator, data_disk_interface"
   ]
  },
  {
   "cell_type": "code",
   "execution_count": 2,
   "id": "interior-horizontal",
   "metadata": {},
   "outputs": [
    {
     "ename": "AttributeError",
     "evalue": "type object 'data_handler' has no attribute 'get_stocks_list'",
     "output_type": "error",
     "traceback": [
      "\u001b[0;31m---------------------------------------------------------------------------\u001b[0m",
      "\u001b[0;31mAttributeError\u001b[0m                            Traceback (most recent call last)",
      "\u001b[0;32m<ipython-input-2-5f21f8c255cb>\u001b[0m in \u001b[0;36m<module>\u001b[0;34m\u001b[0m\n\u001b[0;32m----> 1\u001b[0;31m \u001b[0mdata_handler\u001b[0m\u001b[0;34m.\u001b[0m\u001b[0mget_stocks_list\u001b[0m\u001b[0;34m(\u001b[0m\u001b[0;34m)\u001b[0m\u001b[0;34m\u001b[0m\u001b[0;34m\u001b[0m\u001b[0m\n\u001b[0m",
      "\u001b[0;31mAttributeError\u001b[0m: type object 'data_handler' has no attribute 'get_stocks_list'"
     ]
    }
   ],
   "source": [
    "data_handler.get_stocks_list()"
   ]
  },
  {
   "cell_type": "code",
   "execution_count": null,
   "id": "pressing-pride",
   "metadata": {},
   "outputs": [],
   "source": [
    "object_created_just_for_authentication = data_handler()"
   ]
  },
  {
   "cell_type": "code",
   "execution_count": null,
   "id": "unexpected-juice",
   "metadata": {},
   "outputs": [],
   "source": [
    "data_disk_interface.download_single_quandl_data_and_save(dataset=\"BSE\", ticker_code=\"BOM531335\")"
   ]
  },
  {
   "cell_type": "code",
   "execution_count": 2,
   "id": "verified-advocate",
   "metadata": {},
   "outputs": [
    {
     "ename": "AttributeError",
     "evalue": "type object 'data_handler' has no attribute 'download_data'",
     "output_type": "error",
     "traceback": [
      "\u001b[0;31m---------------------------------------------------------------------------\u001b[0m",
      "\u001b[0;31mAttributeError\u001b[0m                            Traceback (most recent call last)",
      "\u001b[0;32m<ipython-input-2-bc9f085e6dbe>\u001b[0m in \u001b[0;36m<module>\u001b[0;34m\u001b[0m\n\u001b[0;32m----> 1\u001b[0;31m \u001b[0mdata_handler\u001b[0m\u001b[0;34m.\u001b[0m\u001b[0mdownload_data\u001b[0m\u001b[0;34m(\u001b[0m\u001b[0;34m)\u001b[0m\u001b[0;34m\u001b[0m\u001b[0;34m\u001b[0m\u001b[0m\n\u001b[0m",
      "\u001b[0;31mAttributeError\u001b[0m: type object 'data_handler' has no attribute 'download_data'"
     ]
    }
   ],
   "source": [
    "data_disk_interface.download_data()"
   ]
  },
  {
   "cell_type": "code",
   "execution_count": 2,
   "id": "embedded-jerusalem",
   "metadata": {},
   "outputs": [
    {
     "name": "stderr",
     "output_type": "stream",
     "text": [
      "4539it [00:28, 157.12it/s]  \n"
     ]
    }
   ],
   "source": [
    "data_disk_interface.download_data_please()"
   ]
  },
  {
   "cell_type": "code",
   "execution_count": null,
   "id": "stupid-balloon",
   "metadata": {},
   "outputs": [],
   "source": [
    "data_handler.check_if_downloaded(ticker_code=\"BOM533022\", source = \"quandl\", dataset = \"BSE\")"
   ]
  },
  {
   "cell_type": "markdown",
   "id": "declared-shift",
   "metadata": {},
   "source": [
    "# Testing data retreival"
   ]
  },
  {
   "cell_type": "code",
   "execution_count": null,
   "id": "adaptive-norman",
   "metadata": {},
   "outputs": [],
   "source": [
    "# 1991-06-26\n",
    "temp = data_handler.get_stock_data(ticker_code='BOM523395')"
   ]
  },
  {
   "cell_type": "code",
   "execution_count": null,
   "id": "instructional-craft",
   "metadata": {},
   "outputs": [],
   "source": [
    "temp[temp[\"Date\"] == \"1991-06-26\"].iloc[0].to_dict()"
   ]
  },
  {
   "cell_type": "markdown",
   "id": "seasonal-trick",
   "metadata": {},
   "source": [
    "## Retieive full stock data"
   ]
  },
  {
   "cell_type": "code",
   "execution_count": null,
   "id": "original-calvin",
   "metadata": {},
   "outputs": [],
   "source": [
    "df = data_handler.get_stock_data(ticker_code='BOM523395')\n",
    "for index, row in df.iterrows():\n",
    "    print(row.to_dict())\n",
    "    break"
   ]
  },
  {
   "cell_type": "markdown",
   "id": "married-dodge",
   "metadata": {},
   "source": [
    "## Retieve stock data for a single day"
   ]
  },
  {
   "cell_type": "code",
   "execution_count": null,
   "id": "downtown-hands",
   "metadata": {},
   "outputs": [],
   "source": [
    "data_handler.get_day_stock_data(ticker_code ='BOM523395', date = \"1991-06-26\")"
   ]
  },
  {
   "cell_type": "markdown",
   "id": "orange-handy",
   "metadata": {},
   "source": [
    "## Get stocks metadata"
   ]
  },
  {
   "cell_type": "code",
   "execution_count": null,
   "id": "executed-quick",
   "metadata": {},
   "outputs": [],
   "source": [
    "list(data_handler.get_stocks_metadata()[\"CODE\"].values)"
   ]
  },
  {
   "cell_type": "code",
   "execution_count": null,
   "id": "collective-classroom",
   "metadata": {},
   "outputs": [],
   "source": [
    "data_handler.get_ticker_code_list()"
   ]
  },
  {
   "cell_type": "markdown",
   "id": "increasing-location",
   "metadata": {},
   "source": [
    "## Get data through pipeline"
   ]
  },
  {
   "cell_type": "code",
   "execution_count": 6,
   "id": "extensive-beach",
   "metadata": {},
   "outputs": [],
   "source": [
    "from stonks import data_handler, simulator"
   ]
  },
  {
   "cell_type": "code",
   "execution_count": 8,
   "id": "juvenile-particular",
   "metadata": {},
   "outputs": [
    {
     "name": "stdout",
     "output_type": "stream",
     "text": [
      "time_series :  0          85.00\n",
      "1          80.00\n",
      "2          88.75\n",
      "3          88.50\n",
      "4          90.00\n",
      "          ...   \n",
      "7081    26090.35\n",
      "7082    26405.85\n",
      "7083    26258.90\n",
      "7084    26597.50\n",
      "7085    25284.95\n",
      "Name: Close, Length: 7086, dtype: float64\n"
     ]
    }
   ],
   "source": [
    "data_handler.get_stock_data()"
   ]
  },
  {
   "cell_type": "code",
   "execution_count": null,
   "id": "complimentary-investigator",
   "metadata": {},
   "outputs": [],
   "source": []
  },
  {
   "cell_type": "code",
   "execution_count": null,
   "id": "fluid-capture",
   "metadata": {},
   "outputs": [],
   "source": []
  },
  {
   "cell_type": "markdown",
   "id": "precious-royal",
   "metadata": {},
   "source": [
    "# Testing indicator generator"
   ]
  },
  {
   "cell_type": "code",
   "execution_count": null,
   "id": "military-accreditation",
   "metadata": {},
   "outputs": [],
   "source": [
    "single_stock_df = data_handler.get_stock_data(ticker_code='BOM523395')"
   ]
  },
  {
   "cell_type": "code",
   "execution_count": null,
   "id": "spiritual-medium",
   "metadata": {},
   "outputs": [],
   "source": [
    "single_stock_df"
   ]
  },
  {
   "cell_type": "code",
   "execution_count": null,
   "id": "african-belle",
   "metadata": {},
   "outputs": [],
   "source": [
    "import pandas_ta as ta\n",
    "new_indicator = ta.sma(single_stock_df[\"Close\"], length=2)"
   ]
  },
  {
   "cell_type": "code",
   "execution_count": null,
   "id": "established-wings",
   "metadata": {
    "scrolled": false
   },
   "outputs": [],
   "source": [
    "twenty_day_avg = indicator_handler.generate_indicator(single_stock_df[\"Close\"], indicator = \"SMA\", length = 20)"
   ]
  },
  {
   "cell_type": "code",
   "execution_count": null,
   "id": "binding-disposition",
   "metadata": {},
   "outputs": [],
   "source": [
    "twenty_day_avg[19] == sum(single_stock_df[\"Close\"][:20])/20"
   ]
  },
  {
   "cell_type": "markdown",
   "id": "delayed-machinery",
   "metadata": {},
   "source": [
    "# Test simulator"
   ]
  },
  {
   "cell_type": "code",
   "execution_count": null,
   "id": "frequent-maximum",
   "metadata": {},
   "outputs": [],
   "source": [
    "from stonks import data_handler, indicator_handler, simulator"
   ]
  },
  {
   "cell_type": "code",
   "execution_count": null,
   "id": "hydraulic-authority",
   "metadata": {},
   "outputs": [],
   "source": [
    "sim_1 = simulator()"
   ]
  },
  {
   "cell_type": "code",
   "execution_count": null,
   "id": "static-builder",
   "metadata": {},
   "outputs": [],
   "source": [
    "sim_1.logs"
   ]
  },
  {
   "cell_type": "code",
   "execution_count": null,
   "id": "statistical-headset",
   "metadata": {},
   "outputs": [],
   "source": [
    "sim_1.buy(ticker_code=\"pepsi\", buying_price=20, quantity=100, date = \"2000-11-11\")"
   ]
  },
  {
   "cell_type": "code",
   "execution_count": null,
   "id": "present-delight",
   "metadata": {},
   "outputs": [],
   "source": [
    "sim_1.buy(ticker_code=\"pepsi\", buying_price=1000, quantity=10)"
   ]
  },
  {
   "cell_type": "code",
   "execution_count": null,
   "id": "invisible-strike",
   "metadata": {
    "scrolled": true
   },
   "outputs": [],
   "source": [
    "sim_1.sell(ticker_code=\"pepsi\", selling_price=900, quantity=10)"
   ]
  },
  {
   "cell_type": "code",
   "execution_count": null,
   "id": "computational-opera",
   "metadata": {},
   "outputs": [],
   "source": [
    "sim_1.sell(ticker_code=\"pepsi\", selling_price=800, quantity=10)"
   ]
  },
  {
   "cell_type": "code",
   "execution_count": null,
   "id": "classified-theorem",
   "metadata": {},
   "outputs": [],
   "source": [
    "sim_1.sell(ticker_code=\"pepsi\", selling_price=100, quantity=10)"
   ]
  },
  {
   "cell_type": "code",
   "execution_count": null,
   "id": "vulnerable-sunglasses",
   "metadata": {},
   "outputs": [],
   "source": [
    "sim_1.stock_returns_realised_absolute"
   ]
  },
  {
   "cell_type": "code",
   "execution_count": null,
   "id": "parental-third",
   "metadata": {},
   "outputs": [],
   "source": [
    "sim_1.total_returns_absolute "
   ]
  },
  {
   "cell_type": "code",
   "execution_count": null,
   "id": "consolidated-contrast",
   "metadata": {},
   "outputs": [],
   "source": []
  },
  {
   "cell_type": "markdown",
   "id": "defensive-distributor",
   "metadata": {},
   "source": [
    "# Test Agent\n",
    "Requires almost everything else working"
   ]
  },
  {
   "cell_type": "markdown",
   "id": "hindu-functionality",
   "metadata": {},
   "source": [
    "## Rule Based agent"
   ]
  },
  {
   "cell_type": "code",
   "execution_count": 1,
   "id": "cordless-hurricane",
   "metadata": {},
   "outputs": [],
   "source": [
    "from stonks.utils.agent import agent\n",
    "bond = agent()\n",
    "bond.set_basic_strat_1()"
   ]
  },
  {
   "cell_type": "code",
   "execution_count": 2,
   "id": "matched-captain",
   "metadata": {
    "scrolled": true
   },
   "outputs": [
    {
     "name": "stderr",
     "output_type": "stream",
     "text": [
      "  0%|          | 2/4539 [00:08<5:23:21,  4.28s/it]"
     ]
    },
    {
     "name": "stdout",
     "output_type": "stream",
     "text": [
      "Interrupted\n",
      "Code block 'Total processing time' took: 8.55774 s\n"
     ]
    },
    {
     "name": "stderr",
     "output_type": "stream",
     "text": [
      "\n"
     ]
    }
   ],
   "source": [
    "bond.run(number_of_stocks = 5000)"
   ]
  },
  {
   "cell_type": "markdown",
   "id": "bridal-adams",
   "metadata": {},
   "source": [
    "# Sweet victory"
   ]
  },
  {
   "cell_type": "code",
   "execution_count": 3,
   "id": "proprietary-semester",
   "metadata": {},
   "outputs": [
    {
     "data": {
      "text/plain": [
       "defaultdict(<function stonks.utils.simulator.simulator.__init__.<locals>.<lambda>()>,\n",
       "            {})"
      ]
     },
     "execution_count": 3,
     "metadata": {},
     "output_type": "execute_result"
    }
   ],
   "source": [
    "bond.sim.current_holdings"
   ]
  },
  {
   "cell_type": "code",
   "execution_count": 4,
   "id": "fifth-structure",
   "metadata": {},
   "outputs": [
    {
     "data": {
      "text/plain": [
       "0"
      ]
     },
     "execution_count": 4,
     "metadata": {},
     "output_type": "execute_result"
    }
   ],
   "source": [
    "bond.sim.total_returns_absolute"
   ]
  },
  {
   "cell_type": "code",
   "execution_count": 5,
   "id": "standard-czech",
   "metadata": {},
   "outputs": [
    {
     "data": {
      "text/plain": [
       "defaultdict(<function stonks.utils.simulator.simulator.__init__.<locals>.<lambda>()>,\n",
       "            {'BOM532718': 331.32})"
      ]
     },
     "execution_count": 5,
     "metadata": {},
     "output_type": "execute_result"
    }
   ],
   "source": [
    "bond.sim.stock_returns_realised_absolute"
   ]
  },
  {
   "cell_type": "code",
   "execution_count": null,
   "id": "prescribed-durham",
   "metadata": {},
   "outputs": [],
   "source": []
  },
  {
   "cell_type": "code",
   "execution_count": null,
   "id": "early-inspector",
   "metadata": {},
   "outputs": [],
   "source": []
  },
  {
   "cell_type": "code",
   "execution_count": null,
   "id": "passive-heater",
   "metadata": {},
   "outputs": [],
   "source": []
  },
  {
   "cell_type": "markdown",
   "id": "affecting-operation",
   "metadata": {},
   "source": [
    "## Rough"
   ]
  },
  {
   "cell_type": "code",
   "execution_count": null,
   "id": "considerable-latex",
   "metadata": {},
   "outputs": [],
   "source": [
    "(12000/110) * 10"
   ]
  },
  {
   "cell_type": "code",
   "execution_count": null,
   "id": "sought-track",
   "metadata": {},
   "outputs": [],
   "source": [
    "9818 + (1090 * 2)"
   ]
  },
  {
   "cell_type": "code",
   "execution_count": null,
   "id": "funded-burton",
   "metadata": {},
   "outputs": [],
   "source": [
    "sim_1.stock_invested_absolute, sim_1.current_holdings"
   ]
  },
  {
   "cell_type": "code",
   "execution_count": null,
   "id": "herbal-blair",
   "metadata": {},
   "outputs": [],
   "source": [
    "being_sold = 10\n",
    "investment_per_stock = 12000/110\n",
    "total_invested_for_this_sale = being_sold * investment_per_stock\n",
    "net_returns_for_this_sell = 900 * being_sold\n",
    "\n",
    "realised_profit = net_returns_for_this_sell - total_invested_for_this_sale"
   ]
  },
  {
   "cell_type": "code",
   "execution_count": null,
   "id": "white-gospel",
   "metadata": {},
   "outputs": [],
   "source": [
    "net_returns_for_this_sell"
   ]
  },
  {
   "cell_type": "code",
   "execution_count": null,
   "id": "essential-gateway",
   "metadata": {},
   "outputs": [],
   "source": [
    "realised_profit"
   ]
  },
  {
   "cell_type": "code",
   "execution_count": null,
   "id": "cooperative-blade",
   "metadata": {},
   "outputs": [],
   "source": [
    "investment_per_stock"
   ]
  },
  {
   "cell_type": "code",
   "execution_count": null,
   "id": "mature-postage",
   "metadata": {},
   "outputs": [],
   "source": [
    "total_invested_for_this_sale"
   ]
  },
  {
   "cell_type": "code",
   "execution_count": null,
   "id": "sixth-actor",
   "metadata": {},
   "outputs": [],
   "source": [
    "sim_1.stock_returns_absolute"
   ]
  },
  {
   "cell_type": "code",
   "execution_count": null,
   "id": "considerable-voice",
   "metadata": {},
   "outputs": [],
   "source": [
    "sim_1.stock_invested_absolute"
   ]
  },
  {
   "cell_type": "code",
   "execution_count": null,
   "id": "posted-enforcement",
   "metadata": {},
   "outputs": [],
   "source": [
    "sim_1.current_holdings"
   ]
  },
  {
   "cell_type": "code",
   "execution_count": null,
   "id": "satisfied-fantasy",
   "metadata": {},
   "outputs": [],
   "source": [
    "(2000 + 10000)"
   ]
  },
  {
   "cell_type": "code",
   "execution_count": null,
   "id": "electoral-yugoslavia",
   "metadata": {},
   "outputs": [],
   "source": []
  },
  {
   "cell_type": "code",
   "execution_count": null,
   "id": "falling-favor",
   "metadata": {},
   "outputs": [],
   "source": []
  },
  {
   "cell_type": "code",
   "execution_count": null,
   "id": "excellent-hindu",
   "metadata": {},
   "outputs": [],
   "source": []
  },
  {
   "cell_type": "code",
   "execution_count": null,
   "id": "heated-beads",
   "metadata": {},
   "outputs": [],
   "source": [
    "from datetime import datetime\n",
    "\n",
    "# datetime object containing current date and time\n",
    "now = datetime.now()\n",
    " \n",
    "print(\"now =\", now)\n",
    "\n",
    "# dd/mm/YY H:M:S\n",
    "dt_string = now.strftime(\"%d/%m/%Y %H:%M:%S\")\n",
    "print(\"date and time =\", dt_string)\t"
   ]
  },
  {
   "cell_type": "code",
   "execution_count": null,
   "id": "accepted-science",
   "metadata": {},
   "outputs": [],
   "source": []
  },
  {
   "cell_type": "code",
   "execution_count": null,
   "id": "coated-auction",
   "metadata": {},
   "outputs": [],
   "source": []
  },
  {
   "cell_type": "code",
   "execution_count": null,
   "id": "medium-strike",
   "metadata": {},
   "outputs": [],
   "source": []
  }
 ],
 "metadata": {
  "kernelspec": {
   "display_name": "Python 3",
   "language": "python",
   "name": "python3"
  },
  "language_info": {
   "codemirror_mode": {
    "name": "ipython",
    "version": 3
   },
   "file_extension": ".py",
   "mimetype": "text/x-python",
   "name": "python",
   "nbconvert_exporter": "python",
   "pygments_lexer": "ipython3",
   "version": "3.7.9"
  },
  "toc": {
   "base_numbering": 1,
   "nav_menu": {},
   "number_sections": true,
   "sideBar": true,
   "skip_h1_title": false,
   "title_cell": "Table of Contents",
   "title_sidebar": "Contents",
   "toc_cell": false,
   "toc_position": {},
   "toc_section_display": true,
   "toc_window_display": true
  }
 },
 "nbformat": 4,
 "nbformat_minor": 5
}
