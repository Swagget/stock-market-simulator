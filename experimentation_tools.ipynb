{
 "cells": [
  {
   "cell_type": "markdown",
   "id": "chemical-heather",
   "metadata": {},
   "source": [
    "# Import"
   ]
  },
  {
   "cell_type": "code",
   "execution_count": 2,
   "id": "possible-necklace",
   "metadata": {},
   "outputs": [],
   "source": [
    "import pandas as pd"
   ]
  },
  {
   "cell_type": "markdown",
   "id": "empty-title",
   "metadata": {},
   "source": [
    "# Query processing code"
   ]
  },
  {
   "cell_type": "markdown",
   "id": "informed-father",
   "metadata": {},
   "source": [
    "This will allow me to look at a day in isolation but not in in conjunction with previous days."
   ]
  },
  {
   "cell_type": "code",
   "execution_count": 3,
   "id": "republican-twenty",
   "metadata": {},
   "outputs": [],
   "source": [
    "def inject_variables_inside_query(query,data):\n",
    "    # print(\"data datetime :\", data['datetime'])\n",
    "    print(\"query : \", query)\n",
    "    for key in data:\n",
    "        print(\"key : \", key)\n",
    "        print(key in query)\n",
    "        if \"$\"+key in query:\n",
    "            print(\"BEFORE\",query,data[key],data[key][0])\n",
    "            query = (\"\" + query).replace(\"$\" + key, \"'\" + data[key] + \"'\")\n",
    "            print(\"AFTER\", query, data[key])\n",
    "\n",
    "\n",
    "    print(\"data\",data)\n",
    "    print(\"final query\",query)\n",
    "    return query\n",
    "\n",
    "def filter2(master_data, operation):\n",
    "    df = master_data[operation[\"params\"][\"input\"]]\n",
    "    # output = None\n",
    "    method = operation['params']['method']\n",
    "        # method = single_operation['params']['cols']\n",
    "    if method==\"distinct\":\n",
    "        master_data[operation[\"params\"][\"output\"]] = df.drop_duplicates(operation['params']['cols'], keep='first')\n",
    "    if method == \"query\":\n",
    "        output = df\n",
    "        for filter in operation['params']['filters']:\n",
    "            output = output.query(inject_variables_inside_query(filter[\"query\"],master_data))\n",
    "        master_data[operation[\"params\"][\"output\"]] = output\n",
    "\n",
    "        # df_temp = df[df['REFUND_AMOUNT'] > 10000]\n",
    "    # df[df['date2'] > dateparser.parse('2019-01-01')]\n",
    "\n",
    "    # if output!=None: master_data[operation[\"params\"][\"output\"]] = output\n",
    "    # df[single_operation[\"params\"][\"output_col\"]] = df_temp\n",
    "    return master_data"
   ]
  },
  {
   "cell_type": "markdown",
   "id": "nervous-consolidation",
   "metadata": {},
   "source": [
    "# Timing"
   ]
  },
  {
   "cell_type": "code",
   "execution_count": 3,
   "id": "impaired-compound",
   "metadata": {},
   "outputs": [
    {
     "name": "stdout",
     "output_type": "stream",
     "text": [
      "Code block 'loop 1' took: 2.77481 ms\n",
      "Code block 'loop 2' took: 2.71910 ms\n"
     ]
    }
   ],
   "source": [
    "from linetimer import CodeTimer\n",
    "with CodeTimer('loop 1'):\n",
    "    for i in range(100000):\n",
    "        pass"
   ]
  },
  {
   "cell_type": "markdown",
   "id": "mobile-canal",
   "metadata": {},
   "source": [
    "# Inlining\n",
    "https://tomforb.es/automatically-inline-python-function-calls/\n",
    "\n",
    "The pip version is buggy download straight from the github page:\n",
    "https://github.com/orf/inliner\n",
    "\n",
    "Desipte this not that much of an improvement.\n",
    "\n",
    "Next step is to use cython. But for now I'm leaving it literally inline."
   ]
  },
  {
   "cell_type": "code",
   "execution_count": 10,
   "id": "medieval-departure",
   "metadata": {},
   "outputs": [
    {
     "ename": "ModuleNotFoundError",
     "evalue": "No module named 'inliner'",
     "output_type": "error",
     "traceback": [
      "\u001b[0;31m---------------------------------------------------------------------------\u001b[0m",
      "\u001b[0;31mModuleNotFoundError\u001b[0m                       Traceback (most recent call last)",
      "\u001b[0;32m<ipython-input-10-491e792134ca>\u001b[0m in \u001b[0;36m<module>\u001b[0;34m\u001b[0m\n\u001b[0;32m----> 1\u001b[0;31m \u001b[0;32mfrom\u001b[0m \u001b[0minliner\u001b[0m \u001b[0;32mimport\u001b[0m \u001b[0minline\u001b[0m\u001b[0;34m\u001b[0m\u001b[0;34m\u001b[0m\u001b[0m\n\u001b[0m\u001b[1;32m      2\u001b[0m \u001b[0;34m\u001b[0m\u001b[0m\n\u001b[1;32m      3\u001b[0m \u001b[0;34m@\u001b[0m\u001b[0minline\u001b[0m\u001b[0;34m\u001b[0m\u001b[0;34m\u001b[0m\u001b[0m\n\u001b[1;32m      4\u001b[0m \u001b[0;32mdef\u001b[0m \u001b[0madd_stuff\u001b[0m\u001b[0;34m(\u001b[0m\u001b[0mx\u001b[0m\u001b[0;34m,\u001b[0m \u001b[0my\u001b[0m\u001b[0;34m)\u001b[0m\u001b[0;34m:\u001b[0m\u001b[0;34m\u001b[0m\u001b[0;34m\u001b[0m\u001b[0m\n\u001b[1;32m      5\u001b[0m     \u001b[0;32mreturn\u001b[0m \u001b[0mx\u001b[0m \u001b[0;34m+\u001b[0m \u001b[0my\u001b[0m\u001b[0;34m\u001b[0m\u001b[0;34m\u001b[0m\u001b[0m\n",
      "\u001b[0;31mModuleNotFoundError\u001b[0m: No module named 'inliner'"
     ]
    }
   ],
   "source": [
    "from inliner import inline\n",
    "\n",
    "@inline\n",
    "def add_stuff(x, y):\n",
    "    return x + y\n",
    "\n",
    "def add_lots_of_numbers():\n",
    "    results = []\n",
    "    for i in xrange(10):\n",
    "         results.append(add_stuff(i, i+1))"
   ]
  },
  {
   "cell_type": "code",
   "execution_count": null,
   "id": "southwest-preference",
   "metadata": {},
   "outputs": [],
   "source": []
  }
 ],
 "metadata": {
  "kernelspec": {
   "display_name": "Python 3",
   "language": "python",
   "name": "python3"
  },
  "language_info": {
   "codemirror_mode": {
    "name": "ipython",
    "version": 3
   },
   "file_extension": ".py",
   "mimetype": "text/x-python",
   "name": "python",
   "nbconvert_exporter": "python",
   "pygments_lexer": "ipython3",
   "version": "3.7.9"
  },
  "toc": {
   "base_numbering": 1,
   "nav_menu": {},
   "number_sections": true,
   "sideBar": true,
   "skip_h1_title": false,
   "title_cell": "Table of Contents",
   "title_sidebar": "Contents",
   "toc_cell": false,
   "toc_position": {},
   "toc_section_display": true,
   "toc_window_display": true
  }
 },
 "nbformat": 4,
 "nbformat_minor": 5
}
